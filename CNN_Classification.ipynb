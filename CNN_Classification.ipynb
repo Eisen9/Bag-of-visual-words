{
  "nbformat": 4,
  "nbformat_minor": 0,
  "metadata": {
    "colab": {
      "provenance": []
    },
    "kernelspec": {
      "name": "python3",
      "display_name": "Python 3"
    },
    "language_info": {
      "name": "python"
    }
  },
  "cells": [
    {
      "cell_type": "code",
      "metadata": {
        "id": "NgARPv1_kXZl"
      },
      "source": [
        "!pip install opencv-python==3.4.2.17\n",
        "!pip install opencv-contrib-python==3.4.2.17"
      ],
      "execution_count": null,
      "outputs": []
    },
    {
      "cell_type": "code",
      "metadata": {
        "id": "BED2TTiYeMJt"
      },
      "source": [
        "from google.colab import drive\n",
        "drive.mount('/content/drive')"
      ],
      "execution_count": null,
      "outputs": []
    },
    {
      "cell_type": "code",
      "metadata": {
        "id": "Ys7UPB0ckezl"
      },
      "source": [
        "import cv2\n",
        "import matplotlib.pyplot as plt\n",
        "import numpy as np\n",
        "import os\n",
        "from google.colab.patches import cv2_imshow\n",
        "from sklearn.cluster import KMeans"
      ],
      "execution_count": null,
      "outputs": []
    },
    {
      "cell_type": "code",
      "metadata": {
        "id": "ykQ-jDb8kfXe"
      },
      "source": [
        "def get_files(path, train=True):\n",
        "  images = {}\n",
        "\n",
        "  if train:\n",
        "    path = path + '/Training/'\n",
        "  else:\n",
        "    path = path + '/Test/'\n",
        "\n",
        "  for folder in os.listdir(path):\n",
        "    category = []\n",
        "    for filename in os.listdir(path + folder):\n",
        "      img = cv2.imread(path + folder + '/' + filename)\n",
        "      gray = cv2.cvtColor(img, cv2.COLOR_BGR2GRAY)\n",
        "      category.append(gray)\n",
        "    images[folder] = category\n",
        "\n",
        "  return images"
      ],
      "execution_count": null,
      "outputs": []
    },
    {
      "cell_type": "code",
      "metadata": {
        "id": "QsIuonhsGYB9"
      },
      "source": [
        "# change path to point to your data directory\n",
        "path = 'drive/MyDrive/Colab Notebooks/dataset'\n",
        "images = get_files(path)"
      ],
      "execution_count": null,
      "outputs": []
    },
    {
      "cell_type": "code",
      "metadata": {
        "id": "GwCO4BAtCALF"
      },
      "source": [
        "# def extract_features(images):\n",
        "  \n",
        "#   descriptor_list = []\n",
        "#   sift = cv2.xfeatures2d.SIFT_create()\n",
        "#   for k,v in images.items():\n",
        "#     for img in v:\n",
        "#       kp, des = sift.detectAndCompute(img, None) #keypoints, descriptor\n",
        "#       descriptor_list.extend(des)\n",
        "\n",
        "#   return descriptor_list\n",
        "\n",
        "def extract_features(images):\n",
        "  sift_vectors = {}\n",
        "  descriptor_list = []\n",
        "  sift = cv2.xfeatures2d.SIFT_create()\n",
        "\n",
        "  for k,v in images.items():\n",
        "    features = []\n",
        "    for img in v:\n",
        "      kp, des = sift.detectAndCompute(img, None)\n",
        "      descriptor_list.extend(des)\n",
        "      features.append(des)\n",
        "    sift_vectors[k] = features\n",
        "  return descriptor_list, sift_vectors\n"
      ],
      "execution_count": null,
      "outputs": []
    },
    {
      "cell_type": "code",
      "metadata": {
        "id": "2PyHywJQGWgX"
      },
      "source": [
        "descriptor_list, bovw_features = extract_features(images)"
      ],
      "execution_count": null,
      "outputs": []
    },
    {
      "cell_type": "code",
      "metadata": {
        "id": "ppACAAm9Gsag"
      },
      "source": [
        "def cluster_descriptors(k, descriptor_list):\n",
        "  kmeans = KMeans(n_clusters=k)\n",
        "  kmeans.fit(descriptor_list)\n",
        "  visual_vocab = kmeans.cluster_centers_\n",
        "  return visual_vocab"
      ],
      "execution_count": null,
      "outputs": []
    },
    {
      "cell_type": "code",
      "metadata": {
        "id": "7_yfvjXLHjDM"
      },
      "source": [
        "visual_vocab = cluster_descriptors(500, descriptor_list)"
      ],
      "execution_count": null,
      "outputs": []
    },
    {
      "cell_type": "code",
      "metadata": {
        "colab": {
          "base_uri": "https://localhost:8080/"
        },
        "id": "HekAHSUiKn3Z",
        "outputId": "9fd1089d-13d9-4017-e1cf-2b83f63d46d7"
      },
      "source": [
        "visual_vocab"
      ],
      "execution_count": null,
      "outputs": [
        {
          "output_type": "execute_result",
          "data": {
            "text/plain": [
              "array([[ 9.79399142, 10.6695279 , 31.09871245, ...,  4.80257511,\n",
              "         4.49785408,  8.67811159],\n",
              "       [37.7739726 , 11.73972603,  8.06164384, ..., 13.92465753,\n",
              "        10.23972603, 12.49315068],\n",
              "       [23.72093023, 13.79651163, 12.78488372, ..., 13.29651163,\n",
              "         3.18023256, 19.31976744],\n",
              "       ...,\n",
              "       [12.59241706, 12.01421801,  4.91469194, ...,  8.63033175,\n",
              "         7.30331754, 11.20853081],\n",
              "       [85.89861751, 12.48847926,  6.94009217, ...,  2.52534562,\n",
              "         1.99539171, 10.17511521],\n",
              "       [ 5.53191489,  2.96276596,  4.69148936, ..., 12.35638298,\n",
              "        12.62765957, 11.92553191]])"
            ]
          },
          "metadata": {},
          "execution_count": 38
        }
      ]
    },
    {
      "cell_type": "markdown",
      "metadata": {
        "id": "66bpRvTJvwsH"
      },
      "source": [
        "### step 3\n",
        "Image representation with a histogram of codewords\n",
        "* Calculate the Euclidian distance between image descriptors and codewords, i.e., the cluster centres.\n",
        "\n",
        "* Assign each descriptor in the training and test images to the nearest codeword cluster.\n",
        "\n",
        "* Visualize some image patches that are assigned to the same codeword.\n",
        "\n",
        "* Represent each image in the training and the test dataset as a histogram of visual words, i.e., using the Bag of Words representation. Normalize the histograms by their L1 norm."
      ]
    },
    {
      "cell_type": "markdown",
      "metadata": {
        "id": "IXueoQP09yLH"
      },
      "source": [
        "### 3.1 & 3.2\n"
      ]
    },
    {
      "cell_type": "code",
      "metadata": {
        "id": "_isMj3JtviYk"
      },
      "source": [
        "# Calculate the Euclidian distance between image descriptors and codewords, i.e., the cluster centres.\n",
        "\n",
        "# Find for each feature (by index)\n",
        "# the distance to the closest cluster center\n",
        "# provided by the k means algorithm\n",
        "def distance_to_centers(centers, features):\n",
        "  matches = {}\n",
        "  # feature_index = index in features\n",
        "  for feature_index, feature in enumerate(features):\n",
        "    min_dist = 9999999999999999999\n",
        "    selected_cluster_center = -1\n",
        "    # index = cluster index \n",
        "    for index,center in enumerate(centers):\n",
        "      dist = np.linalg.norm(center-feature)\n",
        "      if dist < min_dist:\n",
        "        min_dist = dist\n",
        "        selected_cluster_center=index\n",
        "    \n",
        "    if not selected_cluster_center in matches:\n",
        "      matches[selected_cluster_center]=[] \n",
        "    matches[selected_cluster_center].append(feature_index)\n",
        "\n",
        "  return matches\n",
        "\n",
        "\n",
        "# to make it run fast\n",
        "matches = distance_to_centers(visual_vocab[:500], descriptor_list[:500])\n",
        "# matches = distance_to_centers(visual_vocab, descriptor_list)"
      ],
      "execution_count": null,
      "outputs": []
    },
    {
      "cell_type": "markdown",
      "metadata": {
        "id": "rJ_0aksvCTqK"
      },
      "source": [
        "### 3.3\n",
        "for each cluster centre, we itterate through the features that are parts of this cluster.\n",
        "not completed due to lack of visualisation -- visualise features in images \n",
        "\n",
        "2 problems\n",
        "1. Which image does this feature belong to that we are visualising?\n",
        "2. Where do we get X,y information from for each feature?"
      ]
    },
    {
      "cell_type": "code",
      "metadata": {
        "colab": {
          "base_uri": "https://localhost:8080/"
        },
        "id": "Ok8aSgTX1kAi",
        "outputId": "278bd5ef-7a67-4940-828a-ff466b6ebae2"
      },
      "source": [
        "for cluster_center in matches:\n",
        "  features_in_cluster = matches[cluster_center]\n",
        "  for feature_index in features_in_cluster:\n",
        "    next_feature = descriptor_list[feature_index]\n",
        "    print(next_feature)\n",
        "    break\n",
        "  break"
      ],
      "execution_count": null,
      "outputs": [
        {
          "output_type": "stream",
          "name": "stdout",
          "text": [
            "[  0.   0.   1.   0.   0.   0.   0.   0.  98.  31.  21.   2.   0.   0.\n",
            "   0.   0. 176.  39.   2.   0.   0.   0.   0.  18.  75.   3.   0.   0.\n",
            "   0.   0.   0.  17.   0.   0.   1.   0.   0.   0.   0.   0.  99.  53.\n",
            "  48.   6.   0.   0.  28.  35. 176.  79.   5.   0.   0.   0.   6.  64.\n",
            "  96.   8.   0.   0.   1.   0.   0.  14.   0.   0.   0.   0.   0.   0.\n",
            "   1.   0.  25.   3.   3.   0.   0.   0. 176. 165. 176.   3.   0.   0.\n",
            "   0.   0.  92. 176.  43.   0.   0.   0.   6.   2.   2.  38.   0.   0.\n",
            "   0.   0.   0.   0.   0.   0.   0.   0.   0.   0.   0.   0.  57.  42.\n",
            "  14.   0.   0.   0.   0.   0.  24.  73.  12.   0.   0.   0.   3.   5.\n",
            "   1.  13.]\n"
          ]
        }
      ]
    },
    {
      "cell_type": "markdown",
      "metadata": {
        "id": "MizAPiXZ-EPd"
      },
      "source": [
        "### 3.4"
      ]
    },
    {
      "cell_type": "code",
      "metadata": {
        "id": "zZ90HK5mzITJ"
      },
      "source": [
        "def construct_histogram(descriptor_list, visual_vocab, kmeans):\n",
        "  histogram = np.zeros(len(visual_vocab))\n",
        "  cluster_result = kmeans.predict(discriptor_list)\n",
        "  for i in cluster_result:\n",
        "    histogram[i] += 1.0\n",
        "  return histogram\n"
      ],
      "execution_count": null,
      "outputs": []
    },
    {
      "cell_type": "code",
      "metadata": {
        "id": "J2Nuwt6pz1vj"
      },
      "source": [
        "histogram = construct_histogram(descriptor_list, visual_vocab, kmeans)"
      ],
      "execution_count": null,
      "outputs": []
    },
    {
      "cell_type": "code",
      "metadata": {
        "id": "KTzJcRKiKopB",
        "colab": {
          "base_uri": "https://localhost:8080/",
          "height": 265
        },
        "outputId": "79970c1e-0e3e-4f93-e4f7-d5a6421ddaa9"
      },
      "source": [
        "plt.hist(visual_vocab)\n",
        "plt.show()"
      ],
      "execution_count": null,
      "outputs": [
        {
          "output_type": "display_data",
          "data": {
            "image/png": "[encoded data removed]",
            "text/plain": [
              "<Figure size 432x288 with 1 Axes>"
            ]
          },
          "metadata": {
            "needs_background": "light"
          }
        }
      ]
    },
    {
      "cell_type": "code",
      "metadata": {
        "colab": {
          "base_uri": "https://localhost:8080/",
          "height": 265
        },
        "id": "CksmJZ9y92j_",
        "outputId": "0986a263-5e59-44d1-baf4-cabe9f0b5a36"
      },
      "source": [
        "plt.hist(visual_vocab, density=True) # normliased to L1\n",
        "plt.show()"
      ],
      "execution_count": null,
      "outputs": [
        {
          "output_type": "display_data",
          "data": {
            "image/png": "[encoded data removed]",
            "text/plain": [
              "<Figure size 432x288 with 1 Axes>"
            ]
          },
          "metadata": {
            "needs_background": "light"
          }
        }
      ]
    },
    {
      "cell_type": "markdown",
      "metadata": {
        "id": "9CTzK4Mj98ky"
      },
      "source": []
    }
  ]
}